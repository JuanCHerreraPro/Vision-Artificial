{
 "cells": [
  {
   "cell_type": "code",
   "execution_count": 1,
   "metadata": {},
   "outputs": [
    {
     "name": "stderr",
     "output_type": "stream",
     "text": [
      "Using TensorFlow backend.\n"
     ]
    }
   ],
   "source": [
    "from mtcnn.mtcnn import MTCNN\n",
    "import cv2\n",
    "import time\n",
    "import os"
   ]
  },
  {
   "cell_type": "code",
   "execution_count": 2,
   "metadata": {},
   "outputs": [
    {
     "name": "stdout",
     "output_type": "stream",
     "text": [
      "WARNING:tensorflow:From c:\\users\\windows\\anaconda3\\envs\\pruebas\\lib\\site-packages\\keras\\backend\\tensorflow_backend.py:4070: The name tf.nn.max_pool is deprecated. Please use tf.nn.max_pool2d instead.\n",
      "\n",
      "../../Videos/Resultados/Salida Haar-MTCNN/  Ya existia\n",
      "video_1\n"
     ]
    },
    {
     "ename": "ZeroDivisionError",
     "evalue": "float division by zero",
     "output_type": "error",
     "traceback": [
      "\u001b[1;31m---------------------------------------------------------------------------\u001b[0m",
      "\u001b[1;31mZeroDivisionError\u001b[0m                         Traceback (most recent call last)",
      "\u001b[1;32m<ipython-input-2-3a788c68e8a0>\u001b[0m in \u001b[0;36m<module>\u001b[1;34m\u001b[0m\n\u001b[0;32m     91\u001b[0m     \u001b[0mfin\u001b[0m \u001b[1;33m=\u001b[0m \u001b[0mtime\u001b[0m\u001b[1;33m.\u001b[0m\u001b[0mtime\u001b[0m\u001b[1;33m(\u001b[0m\u001b[1;33m)\u001b[0m\u001b[1;33m\u001b[0m\u001b[1;33m\u001b[0m\u001b[0m\n\u001b[0;32m     92\u001b[0m     \u001b[0msegundos\u001b[0m \u001b[1;33m=\u001b[0m \u001b[0mfin\u001b[0m \u001b[1;33m-\u001b[0m \u001b[0minicio\u001b[0m\u001b[1;33m\u001b[0m\u001b[1;33m\u001b[0m\u001b[0m\n\u001b[1;32m---> 93\u001b[1;33m     \u001b[0mfpsNuevos\u001b[0m \u001b[1;33m=\u001b[0m \u001b[0mcontadorCuadros\u001b[0m\u001b[1;33m/\u001b[0m\u001b[0msegundos\u001b[0m\u001b[1;33m\u001b[0m\u001b[1;33m\u001b[0m\u001b[0m\n\u001b[0m\u001b[0;32m     94\u001b[0m     \u001b[0mf\u001b[0m\u001b[1;33m.\u001b[0m\u001b[0mwrite\u001b[0m\u001b[1;33m(\u001b[0m\u001b[0mstr\u001b[0m\u001b[1;33m(\u001b[0m\u001b[0mnombreEntrada\u001b[0m\u001b[1;33m)\u001b[0m \u001b[1;33m+\u001b[0m \u001b[1;34m','\u001b[0m \u001b[1;33m+\u001b[0m \u001b[0mstr\u001b[0m\u001b[1;33m(\u001b[0m\u001b[0msegundos\u001b[0m\u001b[1;33m)\u001b[0m \u001b[1;33m+\u001b[0m \u001b[1;34m','\u001b[0m \u001b[1;33m+\u001b[0m \u001b[0mstr\u001b[0m\u001b[1;33m(\u001b[0m\u001b[0mfpsNuevos\u001b[0m\u001b[1;33m)\u001b[0m\u001b[1;33m+\u001b[0m \u001b[1;34m'\\n'\u001b[0m\u001b[1;33m)\u001b[0m\u001b[1;33m\u001b[0m\u001b[1;33m\u001b[0m\u001b[0m\n\u001b[0;32m     95\u001b[0m     \u001b[0mf2\u001b[0m\u001b[1;33m.\u001b[0m\u001b[0mwrite\u001b[0m\u001b[1;33m(\u001b[0m\u001b[0mstr\u001b[0m\u001b[1;33m(\u001b[0m\u001b[0mnombreEntrada\u001b[0m\u001b[1;33m)\u001b[0m \u001b[1;33m+\u001b[0m \u001b[1;34m','\u001b[0m \u001b[1;33m+\u001b[0m \u001b[0mstr\u001b[0m\u001b[1;33m(\u001b[0m\u001b[0mcontadorCuadros\u001b[0m\u001b[1;33m)\u001b[0m \u001b[1;33m+\u001b[0m \u001b[1;34m','\u001b[0m \u001b[1;33m+\u001b[0m \u001b[0mstr\u001b[0m\u001b[1;33m(\u001b[0m\u001b[0mcontadorActivacion\u001b[0m\u001b[1;33m)\u001b[0m\u001b[1;33m+\u001b[0m \u001b[1;34m','\u001b[0m\u001b[1;33m+\u001b[0m\u001b[0mstr\u001b[0m\u001b[1;33m(\u001b[0m\u001b[0mcontadorActivacion2\u001b[0m\u001b[1;33m)\u001b[0m \u001b[1;33m+\u001b[0m\u001b[1;34m'\\n'\u001b[0m\u001b[1;33m)\u001b[0m\u001b[1;33m\u001b[0m\u001b[1;33m\u001b[0m\u001b[0m\n",
      "\u001b[1;31mZeroDivisionError\u001b[0m: float division by zero"
     ]
    }
   ],
   "source": [
    "#HAAR CASCADE\n",
    "person_cascade = cv2.CascadeClassifier( '../../xmls/haarcascade_fullbody.xml')\n",
    "#MTCNN\n",
    "detector = MTCNN()\n",
    "\n",
    "rutaDatasets = '../../Videos/Datasets/'\n",
    "nombreDataset = 'CamNet 352 x 288/FPS 4/'\n",
    "#Asigamos un directorio donde se guardarán nuestros archivos\n",
    "directorioSalida ='../../Videos/Resultados/Salida Haar-MTCNN/'\n",
    "\n",
    "#Archivo \n",
    "\n",
    "try:\n",
    "    # Create target Directory\n",
    "    os.mkdir(directorioSalida)\n",
    "    print( directorioSalida ,  \" Creado \") \n",
    "except FileExistsError:\n",
    "    print( directorioSalida ,  \" Ya existia\")\n",
    "\n",
    "try:\n",
    "    #Creamos archivo\n",
    "    f = open(directorioSalida+\"Salida HAAR-MTCNN.csv\", \"x\")\n",
    "    f2 = open(directorioSalida+\"Conteo de activacion HAAR-MTCNN.csv\", \"x\")\n",
    "except:\n",
    "    f = open(directorioSalida+\"Salida HAAR-MTCNN.csv\", \"w\")\n",
    "    f2 = open(directorioSalida+\"Conteo de activacion HAAR-MTCNN.csv\", \"w\")\n",
    "    \n",
    "contador = 1\n",
    "f.write(\"nombre, tiempo, fps \\n\")\n",
    "f2.write(\"nombre, cuadros Totales, cuadrosActivados HC, cuadrosActivados MTCNN \\n\")\n",
    "for i in range(8): #CAMBIAR NÚMERO DE ELEMENTOS\n",
    "    ban = True\n",
    "    contadorCuadros = 0\n",
    "    nombreEntrada = \"video_\"+str(contador) \n",
    "    print(nombreEntrada)\n",
    "    cap=cv2.VideoCapture(rutaDatasets+nombreDataset+nombreEntrada+'.mp4')\n",
    "    #Sacamos  los FPS\n",
    "    fps = cap.get(cv2.CAP_PROP_FPS)\n",
    "    \n",
    "    \n",
    "    #Definimos tamaño\n",
    "    frame_width = 352#\n",
    "    frame_height = 288#\n",
    "    \n",
    "    nombreSalida = \"salida\"+str(contador)+\"_\"+str(fps)+\"fps\"\n",
    "    # Definimos el codec y guardamos el video\n",
    "    out = cv2.VideoWriter(directorioSalida+nombreSalida+'.avi',cv2.VideoWriter_fourcc('M','J','P','G'), int(fps), (frame_width,frame_height))\n",
    "    contadorActivacion = 0\n",
    "    contadorActivacion2 = 0\n",
    "    inicio = time.time()\n",
    "    while ban:\n",
    "        r, frame = cap.read()\n",
    "        \n",
    "        contadorCuadros = contadorCuadros + 1\n",
    "        if r == True:\n",
    "            #REESCALAR\n",
    "            frame = cv2.resize(frame, (frame_width, frame_height))\n",
    "            gray_frame = cv2.cvtColor(frame, cv2.COLOR_RGB2GRAY) #El Haar-cascade classifier necesita escala de grises\n",
    "            rects = person_cascade.detectMultiScale(gray_frame)\n",
    "            \n",
    "            if len(rects):\n",
    "                x = 1\n",
    "                \n",
    "                contadorActivacion = contadorActivacion + 1\n",
    "                \n",
    "                for (x, y, w, h) in rects:\n",
    "                    cv2.rectangle(frame, (x,y), (x+w,y+h),(0,255,0),2)\n",
    "                \n",
    "                face_locations = detector.detect_faces(frame)\n",
    "                    \n",
    "                #print(\"Activación de haar\")\n",
    "                \n",
    "                if len(face_locations):\n",
    "                    #print(\"Activación MTCNN\")\n",
    "                    contadorActivacion2 = contadorActivacion2 + 1\n",
    "                    for face in zip(face_locations):\n",
    "                        (x, y, w, h) = face[0]['box']\n",
    "                        contadorActivacion = contadorActivacion + 1\n",
    "                        cv2.rectangle(frame,(x,y),(x+w,y+h),(255,0,0),2)\n",
    "            \n",
    "            \n",
    "            cv2.imshow(\"preview\", frame)\n",
    "            out.write(frame)\n",
    "            key = cv2.waitKey(1)\n",
    "            if key & 0xFF == ord('q'):\n",
    "                ban = False\n",
    "        else:\n",
    "            ban = False\n",
    "            \n",
    "    contador = contador + 1\n",
    "    fin = time.time()\n",
    "    segundos = fin - inicio\n",
    "    fpsNuevos = contadorCuadros/segundos\n",
    "    f.write(str(nombreEntrada) + ',' + str(segundos) + ',' + str(fpsNuevos)+ '\\n')\n",
    "    f2.write(str(nombreEntrada) + ',' + str(contadorCuadros) + ',' + str(contadorActivacion)+ ','+str(contadorActivacion2) +'\\n')\n",
    "    print(nombreEntrada + \" FPS: \" +str(fpsNuevos)) \n",
    "    print(nombreEntrada + \" Tiempo total: \" + str(segundos))\n",
    "    cap.release()\n",
    "    out.release()\n",
    "    \n",
    "f.close()    \n",
    "f2.close()\n",
    "cv2.destroyAllWindows() "
   ]
  }
 ],
 "metadata": {
  "kernelspec": {
   "display_name": "Python 3",
   "language": "python",
   "name": "python3"
  },
  "language_info": {
   "codemirror_mode": {
    "name": "ipython",
    "version": 3
   },
   "file_extension": ".py",
   "mimetype": "text/x-python",
   "name": "python",
   "nbconvert_exporter": "python",
   "pygments_lexer": "ipython3",
   "version": "3.7.9"
  }
 },
 "nbformat": 4,
 "nbformat_minor": 2
}

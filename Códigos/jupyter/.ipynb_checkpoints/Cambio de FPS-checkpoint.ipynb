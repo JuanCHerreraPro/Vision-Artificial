{
 "cells": [
  {
   "cell_type": "code",
   "execution_count": 1,
   "metadata": {},
   "outputs": [],
   "source": [
    "import numpy as np\n",
    "import cv2\n",
    "import time\n",
    "import os"
   ]
  },
  {
   "cell_type": "code",
   "execution_count": 7,
   "metadata": {},
   "outputs": [
    {
     "name": "stdout",
     "output_type": "stream",
     "text": [
      "../../Videos/Datasets/CamNet 352 x 288/FPS 3/  Ya existia\n",
      "video_1 : 1545\n"
     ]
    }
   ],
   "source": [
    "\n",
    "    \n",
    "#hog = cv2.HOGDescriptor()\n",
    "#Inicializamos el descriptor de HOG\n",
    "#hog.setSVMDetector( cv2.HOGDescriptor_getDefaultPeopleDetector() )\n",
    "rutaDatasets = '../../Videos/Datasets/'\n",
    "nombreDataset = 'CamNet 352 x 288'\n",
    "\n",
    "directorioSalida = rutaDatasets+ nombreDataset + '/FPS 4/'\n",
    "try:\n",
    "    # Create target Directory\n",
    "    os.mkdir(directorioSalida)\n",
    "    print( directorioSalida ,  \" Creado \") \n",
    "except FileExistsError:\n",
    "    print( directorioSalida ,  \" Ya existia\")\n",
    "\n",
    "\n",
    "\n",
    "total_videos = 8\n",
    "contador = 1\n",
    "for i in range(total_videos_videos):\n",
    "    ban = True\n",
    "    contadorCuadros = 0\n",
    "    nombreEntrada = \"video_\"+str(contador)\n",
    "    cap=cv2.VideoCapture(rutaDatasets+ nombreDataset +'/'+nombreEntrada+'.mp4')\n",
    "\n",
    "    #FPS\n",
    "    fps = 5\n",
    "\n",
    "    nombreSalida = \"video_\"+str(contador)\n",
    "    #Definimos tamaño\n",
    "    frame_width = int(cap.get(3))\n",
    "    frame_height = int(cap.get(4))\n",
    "\n",
    "    # Definimos el codec y guardamos el video\n",
    "    out = cv2.VideoWriter(directorioSalida+nombreSalida+'.avi',cv2.VideoWriter_fourcc('M','J','P','G'), fps, (frame_width,frame_height))\n",
    "\n",
    "    #Inicio del tiempo para un video\n",
    "    #inicio = time.time()\n",
    "    contador2 = 0   \n",
    "    while ban:\n",
    "\n",
    "        r,frame=cap.read()\n",
    "        if r == True:\n",
    "\n",
    "            contadorCuadros += 1\n",
    "            if (contadorCuadros % fps == 0):\n",
    "                contador2 += 1\n",
    "                out.write(frame)\n",
    "\n",
    "        else:\n",
    "            ban = False\n",
    "\n",
    "    #Fin del tiempo para un video\n",
    "    print(str(nombreEntrada)+ \" : \"+str(contador2))\n",
    "    cap.release()\n",
    "    out.release()\n",
    "    contador = contador + 1 \n",
    "\n",
    "    "
   ]
  }
 ],
 "metadata": {
  "kernelspec": {
   "display_name": "Python 3",
   "language": "python",
   "name": "python3"
  },
  "language_info": {
   "codemirror_mode": {
    "name": "ipython",
    "version": 3
   },
   "file_extension": ".py",
   "mimetype": "text/x-python",
   "name": "python",
   "nbconvert_exporter": "python",
   "pygments_lexer": "ipython3",
   "version": "3.7.9"
  }
 },
 "nbformat": 4,
 "nbformat_minor": 2
}

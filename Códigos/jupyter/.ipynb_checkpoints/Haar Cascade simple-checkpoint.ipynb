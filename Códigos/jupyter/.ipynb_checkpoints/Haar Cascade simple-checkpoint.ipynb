{
 "cells": [
  {
   "cell_type": "code",
   "execution_count": 14,
   "metadata": {},
   "outputs": [],
   "source": [
    "#Importamos librerias necesarias\n",
    "import cv2\n",
    "import os"
   ]
  },
  {
   "cell_type": "code",
   "execution_count": 31,
   "metadata": {},
   "outputs": [
    {
     "name": "stdout",
     "output_type": "stream",
     "text": [
      "<CascadeClassifier 00000195D4D67310>\n"
     ]
    }
   ],
   "source": [
    "#Cargamos el modelo, en este caso será haarcascade_frontalface_default.xml o haarcascade_fullbody.xml\n",
    "person_cascade = cv2.CascadeClassifier( '../../xmls/haarcascade_frontalface_default.xml')\n",
    "print(person_cascade)\n",
    "#Seleccionamos la imagen\n",
    "frame = cv2.imread('../../Imagenes/rostro.jpg')\n"
   ]
  },
  {
   "cell_type": "code",
   "execution_count": 32,
   "metadata": {},
   "outputs": [
    {
     "name": "stdout",
     "output_type": "stream",
     "text": [
      "[[244 244 244 ... 241 241 240]\n",
      " [244 244 244 ... 241 241 240]\n",
      " [244 244 244 ... 241 241 240]\n",
      " ...\n",
      " [ 60  59  58 ...  65  66  63]\n",
      " [ 61  61  59 ...  66  66  65]\n",
      " [ 57  62  62 ...  65  67  64]]\n"
     ]
    }
   ],
   "source": [
    "#El Haar-cascade classifier necesita escala de grises\n",
    "gray_frame = cv2.cvtColor(frame, cv2.COLOR_RGB2GRAY) \n",
    "\n",
    "rects = person_cascade.detectMultiScale(gray_frame)"
   ]
  },
  {
   "cell_type": "code",
   "execution_count": 33,
   "metadata": {},
   "outputs": [],
   "source": [
    "for (x, y, w, h) in rects:\n",
    "    #Dibujar la caja\n",
    "    cv2.rectangle(frame, (x,y), (x+w,y+h),(0,255,0),2)\n",
    "#Mostramos la cara dibujada\n",
    "cv2.imshow(\"Haar Cascade\", frame)\n",
    "cv2.waitKey(0);"
   ]
  }
 ],
 "metadata": {
  "kernelspec": {
   "display_name": "Python 3",
   "language": "python",
   "name": "python3"
  },
  "language_info": {
   "codemirror_mode": {
    "name": "ipython",
    "version": 3
   },
   "file_extension": ".py",
   "mimetype": "text/x-python",
   "name": "python",
   "nbconvert_exporter": "python",
   "pygments_lexer": "ipython3",
   "version": "3.7.9"
  }
 },
 "nbformat": 4,
 "nbformat_minor": 4
}

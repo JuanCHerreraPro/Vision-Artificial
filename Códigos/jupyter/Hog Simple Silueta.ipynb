{
 "cells": [
  {
   "cell_type": "code",
   "execution_count": 1,
   "metadata": {},
   "outputs": [],
   "source": [
    "#Importamos las librerías\n",
    "import numpy as np\n",
    "import cv2"
   ]
  },
  {
   "cell_type": "code",
   "execution_count": 2,
   "metadata": {},
   "outputs": [],
   "source": [
    "def inside(r, q):\n",
    "    rx, ry, rw, rh = r\n",
    "    qx, qy, qw, qh = q\n",
    "    return rx > qx and ry > qy and rx + rw < qx + qw and ry + rh < qy + qh\n",
    "\n",
    "#Definimos el método que dibujará los cuadrados sobre el área detectada\n",
    "def draw_detections(img, rects, thickness = 1):\n",
    "    for x, y, w, h in rects:\n",
    "       \n",
    "        #El detector HOG regresa rectangulos un poco más grandes que los objetos a los que identifica\n",
    "        # Por lo que se procede a recortarlos un poco\n",
    "        pad_w, pad_h = int(0.15*w), int(0.05*h)\n",
    "        cv2.rectangle(img, (x+pad_w, y+pad_h), (x+w-pad_w, y+h-pad_h), (0, 255, 0), thickness)"
   ]
  },
  {
   "cell_type": "code",
   "execution_count": 3,
   "metadata": {},
   "outputs": [],
   "source": [
    "#Escogemos nuestro descriptor\n",
    "hog = cv2.HOGDescriptor()\n",
    "\n",
    "#Inicializamos el descriptor de HOG\n",
    "hog.setSVMDetector( cv2.HOGDescriptor_getDefaultPeopleDetector() )\n",
    "\n",
    "#Seleccionamos la imagen \n",
    "frame = cv2.imread('../../Imagenes/silueta.jpg')\n",
    "\n",
    "#Pasamos el detector\n",
    "found,w=hog.detectMultiScale(frame, winStride=(8,8), padding=(32,32), scale=1.05)\n",
    "\n",
    "#Dibujamos los cuadros obtenidos desde el detector sobre la imágen original\n",
    "draw_detections(frame,found)\n",
    "\n",
    "#Mostramos la imágen\n",
    "cv2.imshow('HOG Siluetas',frame)\n",
    "cv2.waitKey(0);"
   ]
  }
 ],
 "metadata": {
  "kernelspec": {
   "display_name": "Python 3",
   "language": "python",
   "name": "python3"
  },
  "language_info": {
   "codemirror_mode": {
    "name": "ipython",
    "version": 3
   },
   "file_extension": ".py",
   "mimetype": "text/x-python",
   "name": "python",
   "nbconvert_exporter": "python",
   "pygments_lexer": "ipython3",
   "version": "3.7.9"
  }
 },
 "nbformat": 4,
 "nbformat_minor": 4
}

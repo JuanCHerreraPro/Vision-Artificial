{
 "cells": [
  {
   "cell_type": "code",
   "execution_count": 1,
   "metadata": {},
   "outputs": [
    {
     "name": "stderr",
     "output_type": "stream",
     "text": [
      "Using TensorFlow backend.\n"
     ]
    }
   ],
   "source": [
    "from mtcnn.mtcnn import MTCNN\n",
    "import cv2\n",
    "import time\n",
    "import os"
   ]
  },
  {
   "cell_type": "code",
   "execution_count": 2,
   "metadata": {},
   "outputs": [
    {
     "name": "stdout",
     "output_type": "stream",
     "text": [
      "WARNING:tensorflow:From c:\\users\\windows\\anaconda3\\envs\\pruebas\\lib\\site-packages\\keras\\backend\\tensorflow_backend.py:4070: The name tf.nn.max_pool is deprecated. Please use tf.nn.max_pool2d instead.\n",
      "\n",
      "WARNING:tensorflow:From c:\\users\\windows\\anaconda3\\envs\\pruebas\\lib\\site-packages\\keras\\backend\\tensorflow_backend.py:422: The name tf.global_variables is deprecated. Please use tf.compat.v1.global_variables instead.\n",
      "\n"
     ]
    }
   ],
   "source": [
    "#HAAR CASCADE\n",
    "person_cascade = cv2.CascadeClassifier( '../../xmls/haarcascade_fullbody.xml')\n",
    "#MTCNN\n",
    "detector = MTCNN()\n",
    "\n",
    "\n",
    "ban = True\n",
    "contadorCuadros = 0\n",
    "\n",
    "\n",
    "cap=cv2.VideoCapture(0)\n",
    "#Sacamos  los FPS\n",
    "fps = cap.get(cv2.CAP_PROP_FPS)\n",
    "\n",
    "\n",
    "#Definimos tamaño\n",
    "frame_width = 352#\n",
    "frame_height = 288#\n",
    "# Definimos el codec y guardamos el video\n",
    "\n",
    "contadorActivacion = 0\n",
    "contadorActivacion2 = 0\n",
    "inicio = time.time()\n",
    "while ban:\n",
    "    r, frame = cap.read()\n",
    "\n",
    "    contadorCuadros = contadorCuadros + 1\n",
    "    if r == True:\n",
    "        #REESCALAR\n",
    "        #frame = cv2.resize(frame, (frame_width, frame_height))\n",
    "        gray_frame = cv2.cvtColor(frame, cv2.COLOR_RGB2GRAY) #El Haar-cascade classifier necesita escala de grises\n",
    "        rects = person_cascade.detectMultiScale(gray_frame)\n",
    "\n",
    "        \n",
    "        x = 1\n",
    "\n",
    "        contadorActivacion = contadorActivacion + 1\n",
    "\n",
    "        for (x, y, w, h) in rects:\n",
    "            cv2.rectangle(frame, (x,y), (x+w,y+h),(0,255,0),2)\n",
    "\n",
    "        face_locations = detector.detect_faces(frame)\n",
    "\n",
    "        #print(\"Activación de haar\")\n",
    "\n",
    "        if len(face_locations):\n",
    "            #print(\"Activación MTCNN\")\n",
    "            contadorActivacion2 = contadorActivacion2 + 1\n",
    "            for face in zip(face_locations):\n",
    "                (x, y, w, h) = face[0]['box']\n",
    "                contadorActivacion = contadorActivacion + 1\n",
    "                cv2.rectangle(frame,(x,y),(x+w,y+h),(255,0,0),2)\n",
    "\n",
    "\n",
    "        cv2.imshow(\"preview\", frame)\n",
    "        key = cv2.waitKey(1)\n",
    "        if key & 0xFF == ord('q'):\n",
    "            ban = False\n",
    "    else:\n",
    "        ban = False\n",
    "\n",
    "\n",
    "\n",
    "cap.release()\n",
    "\n",
    "\n",
    "cv2.destroyAllWindows() "
   ]
  }
 ],
 "metadata": {
  "kernelspec": {
   "display_name": "Python 3",
   "language": "python",
   "name": "python3"
  },
  "language_info": {
   "codemirror_mode": {
    "name": "ipython",
    "version": 3
   },
   "file_extension": ".py",
   "mimetype": "text/x-python",
   "name": "python",
   "nbconvert_exporter": "python",
   "pygments_lexer": "ipython3",
   "version": "3.7.9"
  }
 },
 "nbformat": 4,
 "nbformat_minor": 2
}

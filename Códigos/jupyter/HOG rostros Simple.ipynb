{
 "cells": [
  {
   "cell_type": "code",
   "execution_count": null,
   "metadata": {},
   "outputs": [],
   "source": [
    "#Importamos las librerías necesarias\n",
    "import cv2\n",
    "import os\n",
    "import dlib\n"
   ]
  },
  {
   "cell_type": "code",
   "execution_count": null,
   "metadata": {},
   "outputs": [],
   "source": [
    "#Definimos el método que detectará los rostros\n",
    "def detectFaceDlibHog(detector, frame, inHeight=300, inWidth=0):\n",
    "\n",
    "    frameDlibHog = frame.copy()\n",
    "    frameHeight = frameDlibHog.shape[0]\n",
    "    frameWidth = frameDlibHog.shape[1]\n",
    "    if not inWidth:\n",
    "        inWidth = int((frameWidth / frameHeight)*inHeight)\n",
    "\n",
    "    scaleHeight = frameHeight / inHeight\n",
    "    scaleWidth = frameWidth / inWidth\n",
    "\n",
    "    frameDlibHogSmall = cv2.resize(frameDlibHog, (inWidth, inHeight))\n",
    "\n",
    "    frameDlibHogSmall = cv2.cvtColor(frameDlibHogSmall, cv2.COLOR_BGR2RGB)\n",
    "    faceRects = detector(frameDlibHogSmall, 0)\n",
    "   \n",
    "    bboxes = []\n",
    "    for faceRect in faceRects:\n",
    "        \n",
    "        cvRect = [int(faceRect.left()*scaleWidth), int(faceRect.top()*scaleHeight),\n",
    "                  int(faceRect.right()*scaleWidth), int(faceRect.bottom()*scaleHeight) ]\n",
    "        bboxes.append(cvRect)\n",
    "        cv2.rectangle(frameDlibHog, (cvRect[0], cvRect[1]), (cvRect[2], cvRect[3]), (0, 255, 0), int(round(frameHeight/150)), 4)\n",
    "    return frameDlibHog, bboxes\n"
   ]
  },
  {
   "cell_type": "code",
   "execution_count": null,
   "metadata": {},
   "outputs": [],
   "source": [
    "#Seleccionamos nuestro detector\n",
    "hogFaceDetector = dlib.get_frontal_face_detector()\n",
    "\n",
    "#Seleccionamos la imágen \n",
    "frame = cv2.imread(\"Path de la imágen\")\n",
    "\n",
    "#Definimos tamaño para redimensionar\n",
    "frame_width = 352\n",
    "frame_height =288\n",
    "\n",
    "#Redimensionamos la imágen\n",
    "frame = cv2.resize(frame, (frame_width, frame_height))\n",
    "#Pasamos el detector al método junto con la imágen\n",
    "found, bboxes = detectFaceDlibHog(hogFaceDetector,frame)\n",
    "#Mostramos el resultado\n",
    "cv2.imshow('frame',found)\n",
    "cv2.waitKey(0)"
   ]
  }
 ],
 "metadata": {
  "kernelspec": {
   "display_name": "Python 3",
   "language": "python",
   "name": "python3"
  },
  "language_info": {
   "codemirror_mode": {
    "name": "ipython",
    "version": 3
   },
   "file_extension": ".py",
   "mimetype": "text/x-python",
   "name": "python",
   "nbconvert_exporter": "python",
   "pygments_lexer": "ipython3",
   "version": "3.7.9"
  }
 },
 "nbformat": 4,
 "nbformat_minor": 4
}

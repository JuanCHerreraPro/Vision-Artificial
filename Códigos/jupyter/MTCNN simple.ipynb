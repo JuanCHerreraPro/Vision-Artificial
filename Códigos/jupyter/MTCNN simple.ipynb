{
 "cells": [
  {
   "cell_type": "code",
   "execution_count": 1,
   "metadata": {},
   "outputs": [
    {
     "name": "stderr",
     "output_type": "stream",
     "text": [
      "Using TensorFlow backend.\n"
     ]
    }
   ],
   "source": [
    "from mtcnn.mtcnn import MTCNN\n",
    "import cv2\n",
    "import os"
   ]
  },
  {
   "cell_type": "code",
   "execution_count": 2,
   "metadata": {},
   "outputs": [
    {
     "name": "stdout",
     "output_type": "stream",
     "text": [
      "WARNING:tensorflow:From C:\\Users\\windows\\anaconda3\\envs\\tesis\\lib\\site-packages\\keras\\backend\\tensorflow_backend.py:4070: The name tf.nn.max_pool is deprecated. Please use tf.nn.max_pool2d instead.\n",
      "\n",
      "WARNING:tensorflow:From C:\\Users\\windows\\anaconda3\\envs\\tesis\\lib\\site-packages\\keras\\backend\\tensorflow_backend.py:422: The name tf.global_variables is deprecated. Please use tf.compat.v1.global_variables instead.\n",
      "\n"
     ]
    }
   ],
   "source": [
    "#Seleccionamos el detector\n",
    "detector = MTCNN()\n",
    "#Seleccionamos \n",
    "threshold = 0.7\n",
    "#Seleccionamos la imagen \n",
    "frame = cv2.imread('../../Imagenes/rostro.jpg')\n",
    "\n",
    "\n",
    "#Activamos el detector\n",
    "face_locations = detector.detect_faces(frame)\n",
    "#Si el detector consigue detectar algo\n",
    "if len(face_locations):\n",
    "    #Se recorren el número que fueron detectadas\n",
    "    for face in zip(face_locations):\n",
    "        #Se obtienen las coordenadas de las caras encontradas\n",
    "        (x, y, w, h) = face[0]['box']\n",
    "        #Se dibuja el rectangulo sobre el frame\n",
    "        cv2.rectangle(frame,(x,y),(x+w,y+h),(255,0,0),2)    \n",
    "\n",
    "    #Se muestra la imágen\n",
    "    cv2.imshow('MTCNN DL',frame)\n",
    "    cv2.waitKey(0);"
   ]
  }
 ],
 "metadata": {
  "kernelspec": {
   "display_name": "Python 3",
   "language": "python",
   "name": "python3"
  },
  "language_info": {
   "codemirror_mode": {
    "name": "ipython",
    "version": 3
   },
   "file_extension": ".py",
   "mimetype": "text/x-python",
   "name": "python",
   "nbconvert_exporter": "python",
   "pygments_lexer": "ipython3",
   "version": "3.7.9"
  }
 },
 "nbformat": 4,
 "nbformat_minor": 4
}
